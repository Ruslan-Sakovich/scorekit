{
 "cells": [
  {
   "cell_type": "markdown",
   "id": "e30d3b5f-5635-4d43-8461-126499af5591",
   "metadata": {},
   "source": [
    "# Справочник класса LogisticRegressionModel\n",
    "## Создание экземпляра класса"
   ]
  },
  {
   "cell_type": "code",
   "execution_count": 1,
   "id": "d3b29d27-19eb-49ee-9c0d-b63feb20dc97",
   "metadata": {},
   "outputs": [
    {
     "name": "stdout",
     "output_type": "stream",
     "text": [
      "Selected features: ['PassengerId', 'Pclass', 'Sex', 'Age', 'SibSp', 'Parch', 'Fare', 'Embarked']\n",
      "Selected categorical features: ['Pclass', 'Sex', 'SibSp', 'Parch', 'Embarked']\n",
      "Chosen model classifier is SGDClassifier(alpha=0.001, loss='log', random_state=0)\n",
      "The model was loaded from file data/titanic_model.json\n",
      "clf = LogisticRegression(C=1000, random_state=0, solver='saga')\n",
      "coefs = {'Sex_WOE': -1.019, 'Pclass_WOE': -1.082, 'Age_WOE': -1.102, 'Embarked_WOE': -0.699}\n",
      "intercept = -0.498\n",
      "calibration = None\n",
      "scale = None\n"
     ]
    }
   ],
   "source": [
    "import pandas as pd\n",
    "from scorekit.data import DataSamples\n",
    "from scorekit.model import LogisticRegressionModel\n",
    "\n",
    "ds = DataSamples(samples={'train': pd.read_csv('data/train_titanic.csv')}, target='Survived', result_folder='titanic_output')\n",
    "\n",
    "logreg = LogisticRegressionModel(clf=None,            # классификатор модели (должен иметь метод fit() и атрибуты coef_, intercept_). При None выбирается SGDClassifier(alpha=0.001, loss='log', max_iter=100)\n",
    "                                 transformer=None,    # объект класса WOE для предварительной трансформации факторов\n",
    "                                 ds=None,             # Привязанный к модели ДатаСэмпл. Если задан, то он по умолчанию будет использоваться во всех методах\n",
    "                                 round_digits=3,      # округление коэффициентов до этого кол-ва знаков после запятой   \n",
    "                                 name=None,           # название модели\n",
    "                                )   \n",
    "logreg.load_model(file_name='data/titanic_model.json')# загрузка модели \n",
    "ds = logreg.transformer.transform(ds)                 # WOE-трансформация переменных"
   ]
  },
  {
   "cell_type": "markdown",
   "id": "a08bc34f-5888-4fec-a410-e625851484bc",
   "metadata": {},
   "source": [
    "## 1. Переменные"
   ]
  },
  {
   "cell_type": "code",
   "execution_count": 2,
   "id": "6248d7d3-6aa1-44ab-9e24-4fe6de1a7e3b",
   "metadata": {},
   "outputs": [
    {
     "data": {
      "text/plain": [
       "LogisticRegression(C=1000, random_state=0, solver='saga')"
      ]
     },
     "execution_count": 2,
     "metadata": {},
     "output_type": "execute_result"
    }
   ],
   "source": [
    "# классификатор модели (должен иметь метод fit() и атрибуты coef_, intercept_)\n",
    "logreg.clf"
   ]
  },
  {
   "cell_type": "code",
   "execution_count": 3,
   "id": "62cfae80-08bf-416f-afc5-38355c0fc503",
   "metadata": {},
   "outputs": [],
   "source": [
    "# Привязанный ДатаСэмпл. Если задан, то он по умолчанию будет использоваться в остальных методах\n",
    "logreg.ds"
   ]
  },
  {
   "cell_type": "code",
   "execution_count": 4,
   "id": "3f60b2ca-80e3-4de5-bada-7c3d4695c078",
   "metadata": {},
   "outputs": [
    {
     "data": {
      "text/plain": [
       "<vtb_scorekit_dev.woe.base.WOE at 0x7f80c653c7d0>"
      ]
     },
     "execution_count": 4,
     "metadata": {},
     "output_type": "execute_result"
    }
   ],
   "source": [
    "# трансформер (объект класса WOE)\n",
    "logreg.transformer"
   ]
  },
  {
   "cell_type": "code",
   "execution_count": 5,
   "id": "1a893739-cc5b-4191-b5f6-d41a1b7b63ab",
   "metadata": {},
   "outputs": [
    {
     "data": {
      "text/plain": [
       "3"
      ]
     },
     "execution_count": 5,
     "metadata": {},
     "output_type": "execute_result"
    }
   ],
   "source": [
    "#  округление коэффициентов до этого кол-ва знаков после запятой\n",
    "logreg.round_digits"
   ]
  },
  {
   "cell_type": "code",
   "execution_count": 6,
   "id": "ba21f718-6e69-4614-8da3-92650d79a890",
   "metadata": {},
   "outputs": [],
   "source": [
    "# название модели\n",
    "logreg.name"
   ]
  },
  {
   "cell_type": "code",
   "execution_count": 7,
   "id": "bf828eed-d172-405e-b36b-a1edc6a2290a",
   "metadata": {},
   "outputs": [
    {
     "data": {
      "text/plain": [
       "['Sex_WOE', 'Pclass_WOE', 'Age_WOE', 'Embarked_WOE']"
      ]
     },
     "execution_count": 7,
     "metadata": {},
     "output_type": "execute_result"
    }
   ],
   "source": [
    "# список перемнных модели\n",
    "logreg.features"
   ]
  },
  {
   "cell_type": "code",
   "execution_count": 8,
   "id": "eca47798-b236-4834-b32d-578d46617309",
   "metadata": {},
   "outputs": [
    {
     "data": {
      "text/plain": [
       "{'Sex_WOE': -1.019,\n",
       " 'Pclass_WOE': -1.082,\n",
       " 'Age_WOE': -1.102,\n",
       " 'Embarked_WOE': -0.699}"
      ]
     },
     "execution_count": 8,
     "metadata": {},
     "output_type": "execute_result"
    }
   ],
   "source": [
    "# словарь коэффициентов\n",
    "logreg.coefs"
   ]
  },
  {
   "cell_type": "code",
   "execution_count": 9,
   "id": "4e5dedbd-ea0a-49b4-a9c7-1cadf3abc74a",
   "metadata": {},
   "outputs": [
    {
     "data": {
      "text/plain": [
       "-0.498"
      ]
     },
     "execution_count": 9,
     "metadata": {},
     "output_type": "execute_result"
    }
   ],
   "source": [
    "# константа логрега\n",
    "logreg.intercept"
   ]
  },
  {
   "cell_type": "code",
   "execution_count": 10,
   "id": "906020cc-9548-481a-bb80-f706bca551e9",
   "metadata": {},
   "outputs": [],
   "source": [
    "# список коэффициентов для калибровки [a, b] \n",
    "# score_calibr = a + b*score\n",
    "logreg.calibration"
   ]
  },
  {
   "cell_type": "code",
   "execution_count": 11,
   "id": "8d22f101-5e21-417c-b3c1-d8ee721e6fc3",
   "metadata": {},
   "outputs": [],
   "source": [
    "# словарь шкалы {грейд: верхняя граница PD грейда} \n",
    "'''\n",
    "пример мастер-шкалы:\n",
    "{\n",
    "'MA1': 0.0005,\n",
    "'MA2': 0.000695,\n",
    "'MA3': 0.000976,\n",
    "'MB1': 0.001372,\n",
    "'MB2': 0.001927,\n",
    "'MB3': 0.002708,\n",
    "'MC1': 0.003804,\n",
    "'MC2': 0.005344,\n",
    "'MC3': 0.007508,\n",
    "'MD1': 0.010549,\n",
    "'MD2': 0.014821,\n",
    "'MD3': 0.020822,\n",
    "'ME1': 0.029254,\n",
    "'ME2': 0.041101,\n",
    "'ME3': 0.057744,\n",
    "'MF1': 0.081128,\n",
    "'MF2': 0.11398,\n",
    "'MF3': 0.160137,\n",
    "'MG1': 0.224984,\n",
    "'MG2': 0.31609,\n",
    "'MG3': 1\n",
    "}\n",
    "'''\n",
    "logreg.scale"
   ]
  },
  {
   "cell_type": "markdown",
   "id": "93ea991c-b966-43bb-9dc2-11f3608cb29a",
   "metadata": {},
   "source": [
    "## 2. Методы"
   ]
  },
  {
   "cell_type": "code",
   "execution_count": 12,
   "id": "95533df1-f6c1-4b02-873d-dc1f3a0c3fbd",
   "metadata": {
    "scrolled": true,
    "tags": []
   },
   "outputs": [
    {
     "name": "stdout",
     "output_type": "stream",
     "text": [
      "\n",
      "------------------------------------------------------------------------ SFA -------------------------------------------------------------------------\n",
      "\n",
      "Using existing self.transformer.\n",
      "\n",
      "------------------------------------------------------------------------ MFA -------------------------------------------------------------------------\n",
      "\n",
      "Using existing self.coefs.\n",
      "       train\n",
      "Gini  70.714\n",
      "Generating report...\n",
      "The model was successfully saved to file titanic_output/auto_model.json\n"
     ]
    }
   ],
   "source": [
    "\"\"\"\n",
    "Построение модели в автоматическом режиме с минимальным набором параметров\n",
    ":param data: ДатаФрейм или ДатаСэмпл.\n",
    "        - если передается ДатаФрейм, то он разбивается на трейн/тест 70%/30%\n",
    "        - если передается ДатаСэмпл, то все параметры ниже можно не указывать\n",
    ":param target: целевая переменная\n",
    ":param time_column: дата среза\n",
    ":param id_column: уникальный в рамках среза айди наблюдения\n",
    ":param feature_descriptions: датафйрем с описанием переменных. Должен содержать индекс с названием переменных и любое кол-во полей с описанием, которые будут подтягиваться в отчеты\n",
    ":param n_jobs: кол-во используемых рабочих процессов, при -1 берется число, равное CPU_LIMIT\n",
    ":param result_folder: папка, в которую будут сохраняться все результаты работы\n",
    ":param method: Метод автобиннинга: 'tree' - биннинг деревом, 'opt' - биннинг деревом с последующей оптимизацией границ бинов библиотекой optbinning\n",
    ":param validate: флаг для выполнения валидацонных тестов\n",
    ":param out: либо строка с названием эксель файла, либо объект pd.ExcelWriter для сохранения отчета\n",
    ":param save_model: название json файла для сохранения модели\n",
    "\"\"\"\n",
    "data = ds\n",
    "logreg.auto_logreg(data, target=None, time_column=None, id_column=None, feature_descriptions=None, n_jobs=None, \n",
    "                   result_folder='', method='opt', validate=False, out='auto_model.xlsx', save_model='auto_model.json')        "
   ]
  },
  {
   "cell_type": "code",
   "execution_count": 13,
   "id": "c53e4a08-dcdb-4954-b749-807e044f20c1",
   "metadata": {},
   "outputs": [
    {
     "name": "stdout",
     "output_type": "stream",
     "text": [
      "The model was successfully saved to file model.json\n"
     ]
    }
   ],
   "source": [
    "\"\"\"\n",
    "Сохранение факторов, коэффициентов, калибровки, шкалы и биннинга в файл\n",
    ":param file_name: название json файла для сохранения модели. При None json возвращается методом\n",
    "\"\"\"\n",
    "logreg.save_model(file_name='model.json')    "
   ]
  },
  {
   "cell_type": "code",
   "execution_count": 14,
   "id": "a39e21f9-2498-4ab9-8729-85037c06fa8c",
   "metadata": {},
   "outputs": [
    {
     "name": "stdout",
     "output_type": "stream",
     "text": [
      "The model was loaded from file model.json\n",
      "clf = LogisticRegression(C=1000, random_state=0, solver='saga')\n",
      "name = None\n",
      "coefs = {'Sex_WOE': -1.019, 'Pclass_WOE': -1.082, 'Age_WOE': -1.102, 'Embarked_WOE': -0.699}\n",
      "intercept = -0.498\n",
      "calibration = None\n",
      "scale = None\n",
      "round_digits = 3\n"
     ]
    }
   ],
   "source": [
    "\"\"\"\n",
    "Загрузка факторов, коэффициентов, калибровки, шкалы и биннинга из файла\n",
    ":param file_name: название json файла или словарь для загрузки модели\n",
    "\"\"\"\n",
    "logreg.load_model(file_name='model.json')"
   ]
  },
  {
   "cell_type": "code",
   "execution_count": 15,
   "id": "2946a39a-a5ce-4bf0-a09a-f4efe6a893fd",
   "metadata": {
    "scrolled": true,
    "tags": []
   },
   "outputs": [
    {
     "name": "stdout",
     "output_type": "stream",
     "text": [
      "\n",
      "---------------------------------------------- Step 1 ----------------------------------------------\n",
      "Dropped features with gini lower 5: []\n",
      "\n",
      "---------------------------------------------- Step 2 ----------------------------------------------\n",
      "Dropped correlated features: []\n",
      "\n",
      "---------------------------------------------- Step 3 ----------------------------------------------\n",
      "Stepwise feature selection started...\n",
      "To add: Sex_WOE, gini: 53.393, p-value: 4.0158416459686157e-51\n",
      "To add: Pclass_WOE, gini: 66.77, p-value: 1.2965480636638958e-19\n",
      "To add: Age_WOE, gini: 69.697, p-value: 1.0529784646722601e-06\n",
      "To add: Embarked_WOE, gini: 70.533, p-value: 0.001384300963047996\n",
      "No significant features to add were found\n"
     ]
    },
    {
     "data": {
      "image/png": "[encoded data removed]",
      "text/plain": [
       "<Figure size 500x300 with 1 Axes>"
      ]
     },
     "metadata": {},
     "output_type": "display_data"
    },
    {
     "name": "stdout",
     "output_type": "stream",
     "text": [
      "\n",
      "---------------------------------------------- Step 4 ----------------------------------------------\n",
      "Dropping features with positive coefs and high p-values...\n",
      "Nothing to drop\n",
      "\n",
      "------------------------------------------- Final model --------------------------------------------\n",
      "intercept = -0.502\n",
      "coefs = {'Sex_WOE': -1.028, 'Pclass_WOE': -1.156, 'Embarked_WOE': -0.77, 'Age_WOE': -0.96}\n"
     ]
    },
    {
     "data": {
      "image/png": "[encoded data removed]",
      "text/plain": [
       "<Figure size 500x300 with 1 Axes>"
      ]
     },
     "metadata": {},
     "output_type": "display_data"
    },
    {
     "data": {
      "image/png": "[encoded data removed]",
      "text/plain": [
       "<Figure size 600x400 with 1 Axes>"
      ]
     },
     "metadata": {},
     "output_type": "display_data"
    },
    {
     "name": "stdout",
     "output_type": "stream",
     "text": [
      "       train\n",
      "Gini  71.105\n",
      "Generating report...\n"
     ]
    }
   ],
   "source": [
    "\"\"\"\n",
    "Многофакторный отбор. Проходит в 4 основных этапа:\n",
    "\n",
    "1) Отбор по джини (исключаются все факторы с джини ниже gini_threshold)\n",
    "\n",
    "2) Корреляционный анализ. Доступны два варианта работы:\n",
    "    drop_with_most_correlations=False - итерационно исключается фактор с наименьшим джини из списка коррелирующих факторов\n",
    "    drop_with_most_correlations=True - итерационно исключается фактор с наибольшим кол-вом коррелирующих с ним факторов\n",
    "\n",
    "3) Итерационный отобор. Доступны три типа отбора:\n",
    "    selection_type='forward' - все доступные факторы помещаются в список кандидатов, на каждом шаге из списка кандидатов определяется лучший* фактор и перемещается в модель\n",
    "    selection_type='backward' - в модель включаются все доступные факторы, затем на каждом шаге исключается худший* фактор\n",
    "    selection_type='stepwise' - комбинация 'forward' и 'backward'. Каждый шаг состоит из двух этапов:\n",
    "            на первом из списка кандидатов отбирается лучший* фактор в модель,\n",
    "            на втором из уже включенных факторов выбирается худший* и исключается\n",
    "\n",
    "    *Определение лучшего фактора:\n",
    "    При pvalue_priority=False лучшим фактором считается тот, который увеличивает метрику scoring модели на наибольшую величину.\n",
    "        Если величина такого увеличения ниже score_delta, то лучший фактора не определяется, и добавления не происходит\n",
    "    При pvalue_priority=True лучшим фактором считается фактор, который после добавления в модель имеет наименьшее p-value.\n",
    "        Если величина этого p-value выше pvalue_threshold, то лучший фактора не определяется, и добавления не происходит\n",
    "\n",
    "    *Определение худшего фактора:\n",
    "    Худшим фактором в модели считается фактор с наибольшим p-value.\n",
    "        Если величина этого p-value ниже pvalue_threshold, то худший фактора не определяется, и исключения не происходит\n",
    "\n",
    "4) Если выставлен флаг drop_positive_coefs=True, то из списка отобранных на этапе 3 факторов итерационно\n",
    "    исключаются факторы с положительными коэффициентами и факторы с p_value > pvalue_threshold\n",
    ":param ds: ДатаСэмпл. В случае, если он не содержит трансформированные переменные, то выполняется трансформация трансформером self.transformer.\n",
    "           При None берется self.ds\n",
    ":param features: исходный список переменных для МФА. При None берутся все переменные, по которым есть активный биннинг\n",
    ":param hold: список переменных, которые обязательно должны войти в модель\n",
    ":param verbose: флаг для вывода подробных комментариев в процессе работы\n",
    ":param gini_threshold: граница по джини для этапа 1\n",
    ":param corr_method: метод расчета корреляций для этапа 2. Доступны варианты 'pearson', 'kendall', 'spearman'\n",
    ":param corr_threshold: граница по коэффициенту корреляции для этапа 2\n",
    ":param drop_with_most_correlations: вариант исключения факторов в корреляционном анализе для этапа 2\n",
    ":param selection_type: тип отбора для этапа 3\n",
    ":param pvalue_threshold: граница по p-value для этапа 3\n",
    ":param pvalue_priority: вариант определения лучшего фактора для этапа 3\n",
    ":param scoring: максимизируемая метрика для этапа 3.\n",
    "        Варианты значений: 'gini', 'AIC', 'BIC' + все метрики доступные для вычисления через sklearn.model_selection.cross_val_score.\n",
    "        Все информационные метрики после вычисления умножаются на -1 для сохранения логики максимизации метрики.\n",
    ":param score_delta: минимальный прирост метрики для этапа 3\n",
    ":param cv: параметр cv для вычисления скора sklearn.model_selection.cross_val_score для этапа 3.\n",
    "            При None берется StratifiedKFold(5, shuffle=True, random_state=self.random_state)\n",
    ":param drop_positive_coefs: флаг для выполнения этапа 4\n",
    ":param result_file: файл, в который будут сохраняться результаты мфа\n",
    ":param PSI: флаг для проведения анализа PSI отобранных в модель факторов\n",
    "\"\"\"\n",
    "logreg.mfa(ds=None, features=None, hold=None, verbose=True, gini_threshold=5,\n",
    "           corr_method='pearson', corr_threshold=0.75, drop_with_most_correlations=False,\n",
    "           selection_type='stepwise', pvalue_threshold=0.05, pvalue_priority=False,\n",
    "           scoring='gini', score_delta=0.1, cv=None, drop_positive_coefs=True,\n",
    "           result_file='mfa.xlsx', PSI=True)"
   ]
  },
  {
   "cell_type": "code",
   "execution_count": 16,
   "id": "de4e1c0b-0752-4b54-9862-c71819cad439",
   "metadata": {},
   "outputs": [
    {
     "data": {
      "image/png": "[encoded data removed]",
      "text/plain": [
       "<Figure size 1000x600 with 2 Axes>"
      ]
     },
     "metadata": {},
     "output_type": "display_data"
    },
    {
     "data": {
      "text/plain": [
       "[0.78125, 1.00038]"
      ]
     },
     "execution_count": 16,
     "metadata": {},
     "output_type": "execute_result"
    }
   ],
   "source": [
    "\"\"\"\n",
    "Калибровка скора модели линейной функцией score_calibr = a + b*score. Результат сохраняется в self.calibration в виде списка [a, b]\n",
    ":param CT: значение центральной тенденции, к которому приводится среднее PD модели\n",
    ":param ds: ДатаСэмпл\n",
    ":param method: метод калибровки. Доступны два варианта:\n",
    "                0 - Строится логрег скора на таргет, коэффициент b приравнивается полученному коэффициенту при скоре,\n",
    "                    коэффицент a затем подбирается солвером для попадания в ЦТ при фиксированном b\n",
    "                1 - Расчитываются веса наблюдений и строится логрег скора на таргет с весами, a и b приравниваются коэффициентам логрега\n",
    "                2 - Коэффициенты рассчитываются минимизацией заданной функции через вызов scipy.optimize.minimize(fun=fun, x0=x0, args=args, method='nelder-mead')\n",
    "                любое другое значение - перерасчет коэффициентов не происходит, проводится тест на коэффициентах из self.calibration\n",
    ":param sample_name: название сэмпла, на котором проводится калибровка\n",
    ":param scale: шкала, на которой будет проведен биноминальный тест. Задается в виде словаря {грейд: верхняя граница PD грейда}. По умолчанию берется мастер-шкала\n",
    ":param score_field: поле со скором. Если оно отсутвует в ДатаСэмпле, то будет вызван метод self.scoring\n",
    ":param result_file: название эксель файла, в который будут записаны результаты\n",
    ":param plot_flag: флаг для вывода графика\n",
    "--- Метод калибровки 2 ---\n",
    ":param fun: пользовательская функция\n",
    ":param x0: начальные значения параметров\n",
    ":param args: кортеж аргументов\n",
    ":param lambda_ab: функция для формирования списка [a, b] из результирующих параметров солвера. При None берется lambda x: x\n",
    "Примеры использования для калибровки с ограничением минимального PD модели значением minPD:\n",
    "\n",
    "Вариант 1) Минимизация функции двух переменных\n",
    "def CT_minPD_delta(params, score, CT, minPD):\n",
    "    a, b = params\n",
    "    pd = 1 / (1 + np.exp(-(a + score * b)))\n",
    "    return (CT - pd.mean()) ** 2 + 10 * (minPD - pd.min())**2\n",
    "\n",
    "fun=CT_minPD_delta, x0=[0, 1], args=(ds.samples[ds.train_name]['score'], CT, minPD), lambda_ab=None\n",
    "\n",
    "Вариант 2) Минимизация функции одной переменной, вычисление коэффициента b через связь minPD и лучшего скора по выборке\n",
    "def CT_delta(params, score, CT, minPD, best_score):\n",
    "    a = params\n",
    "    b = (-log(1 / minPD - 1) - a) / best_score\n",
    "    pd = 1 / (1 + np.exp(-(a + score * b)))\n",
    "    return (CT - pd.mean()) ** 2\n",
    "\n",
    "best_score = ds.samples[ds.train_name]['score'].min()\n",
    "fun=CT_delta, x0=0, args=(ds.samples[ds.train_name]['score'], CT, minPD, best_score), lambda_ab=lambda x: (x[0], (-log(1 / minPD - 1) - x[0]) / best_score))\n",
    "\n",
    "\n",
    ":return: коэффициенты калибровки [a, b]\n",
    "\"\"\"\n",
    "CT = 0.5\n",
    "logreg.calibrate(CT, ds=None, method=0, sample_name=None, scale=None, score_field=None, result_file='calibration.xlsx', plot_flag=True, fun=None, x0=None, args=None, lambda_ab=None)"
   ]
  },
  {
   "cell_type": "code",
   "execution_count": 17,
   "id": "80076dfb-f0f8-40a8-b8ac-3f01e480767b",
   "metadata": {},
   "outputs": [
    {
     "data": {
      "text/html": [
       "<div>\n",
       "<style scoped>\n",
       "    .dataframe tbody tr th:only-of-type {\n",
       "        vertical-align: middle;\n",
       "    }\n",
       "\n",
       "    .dataframe tbody tr th {\n",
       "        vertical-align: top;\n",
       "    }\n",
       "\n",
       "    .dataframe thead th {\n",
       "        text-align: right;\n",
       "    }\n",
       "</style>\n",
       "<table border=\"1\" class=\"dataframe\">\n",
       "  <thead>\n",
       "    <tr style=\"text-align: right;\">\n",
       "      <th></th>\n",
       "      <th>upper PD</th>\n",
       "      <th>Avg PD</th>\n",
       "      <th>Target rate</th>\n",
       "      <th>Amount</th>\n",
       "      <th>Target amount</th>\n",
       "      <th>Amount weighted</th>\n",
       "      <th>Target amount weighted</th>\n",
       "      <th>1%</th>\n",
       "      <th>5%</th>\n",
       "      <th>95%</th>\n",
       "      <th>99%</th>\n",
       "      <th>Signal</th>\n",
       "    </tr>\n",
       "    <tr>\n",
       "      <th>grade</th>\n",
       "      <th></th>\n",
       "      <th></th>\n",
       "      <th></th>\n",
       "      <th></th>\n",
       "      <th></th>\n",
       "      <th></th>\n",
       "      <th></th>\n",
       "      <th></th>\n",
       "      <th></th>\n",
       "      <th></th>\n",
       "      <th></th>\n",
       "      <th></th>\n",
       "    </tr>\n",
       "  </thead>\n",
       "  <tbody>\n",
       "    <tr>\n",
       "      <th>MA1</th>\n",
       "      <td>5.000e-04</td>\n",
       "      <td>-1.825</td>\n",
       "      <td>0.159</td>\n",
       "      <td>552</td>\n",
       "      <td>88</td>\n",
       "      <td>552</td>\n",
       "      <td>88</td>\n",
       "      <td>-2.074</td>\n",
       "      <td>-2.014</td>\n",
       "      <td>-1.636</td>\n",
       "      <td>-1.576</td>\n",
       "      <td>К</td>\n",
       "    </tr>\n",
       "    <tr>\n",
       "      <th>MA2</th>\n",
       "      <td>6.950e-04</td>\n",
       "      <td>NaN</td>\n",
       "      <td>NaN</td>\n",
       "      <td>0</td>\n",
       "      <td>0</td>\n",
       "      <td>0</td>\n",
       "      <td>0</td>\n",
       "      <td>NaN</td>\n",
       "      <td>NaN</td>\n",
       "      <td>NaN</td>\n",
       "      <td>NaN</td>\n",
       "      <td></td>\n",
       "    </tr>\n",
       "    <tr>\n",
       "      <th>MA3</th>\n",
       "      <td>9.760e-04</td>\n",
       "      <td>NaN</td>\n",
       "      <td>NaN</td>\n",
       "      <td>0</td>\n",
       "      <td>0</td>\n",
       "      <td>0</td>\n",
       "      <td>0</td>\n",
       "      <td>NaN</td>\n",
       "      <td>NaN</td>\n",
       "      <td>NaN</td>\n",
       "      <td>NaN</td>\n",
       "      <td></td>\n",
       "    </tr>\n",
       "    <tr>\n",
       "      <th>MB1</th>\n",
       "      <td>1.372e-03</td>\n",
       "      <td>NaN</td>\n",
       "      <td>NaN</td>\n",
       "      <td>0</td>\n",
       "      <td>0</td>\n",
       "      <td>0</td>\n",
       "      <td>0</td>\n",
       "      <td>NaN</td>\n",
       "      <td>NaN</td>\n",
       "      <td>NaN</td>\n",
       "      <td>NaN</td>\n",
       "      <td></td>\n",
       "    </tr>\n",
       "    <tr>\n",
       "      <th>MB2</th>\n",
       "      <td>1.927e-03</td>\n",
       "      <td>NaN</td>\n",
       "      <td>NaN</td>\n",
       "      <td>0</td>\n",
       "      <td>0</td>\n",
       "      <td>0</td>\n",
       "      <td>0</td>\n",
       "      <td>NaN</td>\n",
       "      <td>NaN</td>\n",
       "      <td>NaN</td>\n",
       "      <td>NaN</td>\n",
       "      <td></td>\n",
       "    </tr>\n",
       "    <tr>\n",
       "      <th>MB3</th>\n",
       "      <td>2.708e-03</td>\n",
       "      <td>NaN</td>\n",
       "      <td>NaN</td>\n",
       "      <td>0</td>\n",
       "      <td>0</td>\n",
       "      <td>0</td>\n",
       "      <td>0</td>\n",
       "      <td>NaN</td>\n",
       "      <td>NaN</td>\n",
       "      <td>NaN</td>\n",
       "      <td>NaN</td>\n",
       "      <td></td>\n",
       "    </tr>\n",
       "    <tr>\n",
       "      <th>MC1</th>\n",
       "      <td>3.804e-03</td>\n",
       "      <td>NaN</td>\n",
       "      <td>NaN</td>\n",
       "      <td>0</td>\n",
       "      <td>0</td>\n",
       "      <td>0</td>\n",
       "      <td>0</td>\n",
       "      <td>NaN</td>\n",
       "      <td>NaN</td>\n",
       "      <td>NaN</td>\n",
       "      <td>NaN</td>\n",
       "      <td></td>\n",
       "    </tr>\n",
       "    <tr>\n",
       "      <th>MC2</th>\n",
       "      <td>5.344e-03</td>\n",
       "      <td>NaN</td>\n",
       "      <td>NaN</td>\n",
       "      <td>0</td>\n",
       "      <td>0</td>\n",
       "      <td>0</td>\n",
       "      <td>0</td>\n",
       "      <td>NaN</td>\n",
       "      <td>NaN</td>\n",
       "      <td>NaN</td>\n",
       "      <td>NaN</td>\n",
       "      <td></td>\n",
       "    </tr>\n",
       "    <tr>\n",
       "      <th>MC3</th>\n",
       "      <td>7.508e-03</td>\n",
       "      <td>NaN</td>\n",
       "      <td>NaN</td>\n",
       "      <td>0</td>\n",
       "      <td>0</td>\n",
       "      <td>0</td>\n",
       "      <td>0</td>\n",
       "      <td>NaN</td>\n",
       "      <td>NaN</td>\n",
       "      <td>NaN</td>\n",
       "      <td>NaN</td>\n",
       "      <td></td>\n",
       "    </tr>\n",
       "    <tr>\n",
       "      <th>MD1</th>\n",
       "      <td>1.055e-02</td>\n",
       "      <td>NaN</td>\n",
       "      <td>NaN</td>\n",
       "      <td>0</td>\n",
       "      <td>0</td>\n",
       "      <td>0</td>\n",
       "      <td>0</td>\n",
       "      <td>NaN</td>\n",
       "      <td>NaN</td>\n",
       "      <td>NaN</td>\n",
       "      <td>NaN</td>\n",
       "      <td></td>\n",
       "    </tr>\n",
       "    <tr>\n",
       "      <th>MD2</th>\n",
       "      <td>1.482e-02</td>\n",
       "      <td>NaN</td>\n",
       "      <td>NaN</td>\n",
       "      <td>0</td>\n",
       "      <td>0</td>\n",
       "      <td>0</td>\n",
       "      <td>0</td>\n",
       "      <td>NaN</td>\n",
       "      <td>NaN</td>\n",
       "      <td>NaN</td>\n",
       "      <td>NaN</td>\n",
       "      <td></td>\n",
       "    </tr>\n",
       "    <tr>\n",
       "      <th>MD3</th>\n",
       "      <td>2.082e-02</td>\n",
       "      <td>NaN</td>\n",
       "      <td>NaN</td>\n",
       "      <td>0</td>\n",
       "      <td>0</td>\n",
       "      <td>0</td>\n",
       "      <td>0</td>\n",
       "      <td>NaN</td>\n",
       "      <td>NaN</td>\n",
       "      <td>NaN</td>\n",
       "      <td>NaN</td>\n",
       "      <td></td>\n",
       "    </tr>\n",
       "    <tr>\n",
       "      <th>ME1</th>\n",
       "      <td>2.925e-02</td>\n",
       "      <td>NaN</td>\n",
       "      <td>NaN</td>\n",
       "      <td>0</td>\n",
       "      <td>0</td>\n",
       "      <td>0</td>\n",
       "      <td>0</td>\n",
       "      <td>NaN</td>\n",
       "      <td>NaN</td>\n",
       "      <td>NaN</td>\n",
       "      <td>NaN</td>\n",
       "      <td></td>\n",
       "    </tr>\n",
       "    <tr>\n",
       "      <th>ME2</th>\n",
       "      <td>4.110e-02</td>\n",
       "      <td>NaN</td>\n",
       "      <td>NaN</td>\n",
       "      <td>0</td>\n",
       "      <td>0</td>\n",
       "      <td>0</td>\n",
       "      <td>0</td>\n",
       "      <td>NaN</td>\n",
       "      <td>NaN</td>\n",
       "      <td>NaN</td>\n",
       "      <td>NaN</td>\n",
       "      <td></td>\n",
       "    </tr>\n",
       "    <tr>\n",
       "      <th>ME3</th>\n",
       "      <td>5.774e-02</td>\n",
       "      <td>NaN</td>\n",
       "      <td>NaN</td>\n",
       "      <td>0</td>\n",
       "      <td>0</td>\n",
       "      <td>0</td>\n",
       "      <td>0</td>\n",
       "      <td>NaN</td>\n",
       "      <td>NaN</td>\n",
       "      <td>NaN</td>\n",
       "      <td>NaN</td>\n",
       "      <td></td>\n",
       "    </tr>\n",
       "    <tr>\n",
       "      <th>MF1</th>\n",
       "      <td>8.113e-02</td>\n",
       "      <td>NaN</td>\n",
       "      <td>NaN</td>\n",
       "      <td>0</td>\n",
       "      <td>0</td>\n",
       "      <td>0</td>\n",
       "      <td>0</td>\n",
       "      <td>NaN</td>\n",
       "      <td>NaN</td>\n",
       "      <td>NaN</td>\n",
       "      <td>NaN</td>\n",
       "      <td></td>\n",
       "    </tr>\n",
       "    <tr>\n",
       "      <th>MF2</th>\n",
       "      <td>1.140e-01</td>\n",
       "      <td>0.098</td>\n",
       "      <td>0.826</td>\n",
       "      <td>23</td>\n",
       "      <td>19</td>\n",
       "      <td>23</td>\n",
       "      <td>19</td>\n",
       "      <td>-0.062</td>\n",
       "      <td>-0.023</td>\n",
       "      <td>0.220</td>\n",
       "      <td>0.258</td>\n",
       "      <td>К</td>\n",
       "    </tr>\n",
       "    <tr>\n",
       "      <th>MF3</th>\n",
       "      <td>1.601e-01</td>\n",
       "      <td>NaN</td>\n",
       "      <td>NaN</td>\n",
       "      <td>0</td>\n",
       "      <td>0</td>\n",
       "      <td>0</td>\n",
       "      <td>0</td>\n",
       "      <td>NaN</td>\n",
       "      <td>NaN</td>\n",
       "      <td>NaN</td>\n",
       "      <td>NaN</td>\n",
       "      <td></td>\n",
       "    </tr>\n",
       "    <tr>\n",
       "      <th>MG1</th>\n",
       "      <td>2.250e-01</td>\n",
       "      <td>NaN</td>\n",
       "      <td>NaN</td>\n",
       "      <td>0</td>\n",
       "      <td>0</td>\n",
       "      <td>0</td>\n",
       "      <td>0</td>\n",
       "      <td>NaN</td>\n",
       "      <td>NaN</td>\n",
       "      <td>NaN</td>\n",
       "      <td>NaN</td>\n",
       "      <td></td>\n",
       "    </tr>\n",
       "    <tr>\n",
       "      <th>MG2</th>\n",
       "      <td>3.161e-01</td>\n",
       "      <td>0.234</td>\n",
       "      <td>0.413</td>\n",
       "      <td>92</td>\n",
       "      <td>38</td>\n",
       "      <td>92</td>\n",
       "      <td>38</td>\n",
       "      <td>0.120</td>\n",
       "      <td>0.148</td>\n",
       "      <td>0.321</td>\n",
       "      <td>0.348</td>\n",
       "      <td>К</td>\n",
       "    </tr>\n",
       "    <tr>\n",
       "      <th>MG3</th>\n",
       "      <td>1.000e+00</td>\n",
       "      <td>0.643</td>\n",
       "      <td>0.641</td>\n",
       "      <td>39</td>\n",
       "      <td>25</td>\n",
       "      <td>39</td>\n",
       "      <td>25</td>\n",
       "      <td>0.445</td>\n",
       "      <td>0.493</td>\n",
       "      <td>0.793</td>\n",
       "      <td>0.841</td>\n",
       "      <td>З</td>\n",
       "    </tr>\n",
       "    <tr>\n",
       "      <th>All</th>\n",
       "      <td>NaN</td>\n",
       "      <td>-0.656</td>\n",
       "      <td>0.384</td>\n",
       "      <td>891</td>\n",
       "      <td>342</td>\n",
       "      <td>891</td>\n",
       "      <td>342</td>\n",
       "      <td>-0.746</td>\n",
       "      <td>-0.724</td>\n",
       "      <td>-0.587</td>\n",
       "      <td>-0.566</td>\n",
       "      <td>К</td>\n",
       "    </tr>\n",
       "  </tbody>\n",
       "</table>\n",
       "</div>"
      ],
      "text/plain": [
       "        upper PD  Avg PD  Target rate  Amount  Target amount  Amount weighted  \\\n",
       "grade                                                                           \n",
       "MA1    5.000e-04  -1.825        0.159     552             88              552   \n",
       "MA2    6.950e-04     NaN          NaN       0              0                0   \n",
       "MA3    9.760e-04     NaN          NaN       0              0                0   \n",
       "MB1    1.372e-03     NaN          NaN       0              0                0   \n",
       "MB2    1.927e-03     NaN          NaN       0              0                0   \n",
       "MB3    2.708e-03     NaN          NaN       0              0                0   \n",
       "MC1    3.804e-03     NaN          NaN       0              0                0   \n",
       "MC2    5.344e-03     NaN          NaN       0              0                0   \n",
       "MC3    7.508e-03     NaN          NaN       0              0                0   \n",
       "MD1    1.055e-02     NaN          NaN       0              0                0   \n",
       "MD2    1.482e-02     NaN          NaN       0              0                0   \n",
       "MD3    2.082e-02     NaN          NaN       0              0                0   \n",
       "ME1    2.925e-02     NaN          NaN       0              0                0   \n",
       "ME2    4.110e-02     NaN          NaN       0              0                0   \n",
       "ME3    5.774e-02     NaN          NaN       0              0                0   \n",
       "MF1    8.113e-02     NaN          NaN       0              0                0   \n",
       "MF2    1.140e-01   0.098        0.826      23             19               23   \n",
       "MF3    1.601e-01     NaN          NaN       0              0                0   \n",
       "MG1    2.250e-01     NaN          NaN       0              0                0   \n",
       "MG2    3.161e-01   0.234        0.413      92             38               92   \n",
       "MG3    1.000e+00   0.643        0.641      39             25               39   \n",
       "All          NaN  -0.656        0.384     891            342              891   \n",
       "\n",
       "       Target amount weighted     1%     5%    95%    99% Signal  \n",
       "grade                                                             \n",
       "MA1                        88 -2.074 -2.014 -1.636 -1.576      К  \n",
       "MA2                         0    NaN    NaN    NaN    NaN         \n",
       "MA3                         0    NaN    NaN    NaN    NaN         \n",
       "MB1                         0    NaN    NaN    NaN    NaN         \n",
       "MB2                         0    NaN    NaN    NaN    NaN         \n",
       "MB3                         0    NaN    NaN    NaN    NaN         \n",
       "MC1                         0    NaN    NaN    NaN    NaN         \n",
       "MC2                         0    NaN    NaN    NaN    NaN         \n",
       "MC3                         0    NaN    NaN    NaN    NaN         \n",
       "MD1                         0    NaN    NaN    NaN    NaN         \n",
       "MD2                         0    NaN    NaN    NaN    NaN         \n",
       "MD3                         0    NaN    NaN    NaN    NaN         \n",
       "ME1                         0    NaN    NaN    NaN    NaN         \n",
       "ME2                         0    NaN    NaN    NaN    NaN         \n",
       "ME3                         0    NaN    NaN    NaN    NaN         \n",
       "MF1                         0    NaN    NaN    NaN    NaN         \n",
       "MF2                        19 -0.062 -0.023  0.220  0.258      К  \n",
       "MF3                         0    NaN    NaN    NaN    NaN         \n",
       "MG1                         0    NaN    NaN    NaN    NaN         \n",
       "MG2                        38  0.120  0.148  0.321  0.348      К  \n",
       "MG3                        25  0.445  0.493  0.793  0.841      З  \n",
       "All                       342 -0.746 -0.724 -0.587 -0.566      К  "
      ]
     },
     "execution_count": 17,
     "metadata": {},
     "output_type": "execute_result"
    }
   ],
   "source": [
    "\"\"\"\n",
    "Тест на калибровку\n",
    ":param df: ДатаФрейм\n",
    ":param target: поле с таргетом\n",
    ":param pd_field: поле с рассчитанным PD\n",
    ":param w: вес дефолтных наблюдений для теста\n",
    "\n",
    ":return: ДатаФрейм с результатом теста\n",
    "\"\"\"\n",
    "df = ds.samples[ds.train_name]\n",
    "target = ds.target\n",
    "pd_field = 'score'\n",
    "df = logreg.scoring(df)\n",
    "logreg.calibration_test(df, target, pd_field, w=1)        "
   ]
  },
  {
   "cell_type": "code",
   "execution_count": 18,
   "id": "d8a66cae-5952-4edd-8eac-75156f6bb8ad",
   "metadata": {},
   "outputs": [
    {
     "data": {
      "text/html": [
       "<div>\n",
       "<style scoped>\n",
       "    .dataframe tbody tr th:only-of-type {\n",
       "        vertical-align: middle;\n",
       "    }\n",
       "\n",
       "    .dataframe tbody tr th {\n",
       "        vertical-align: top;\n",
       "    }\n",
       "\n",
       "    .dataframe thead th {\n",
       "        text-align: right;\n",
       "    }\n",
       "</style>\n",
       "<table border=\"1\" class=\"dataframe\">\n",
       "  <thead>\n",
       "    <tr style=\"text-align: right;\">\n",
       "      <th></th>\n",
       "      <th>feature</th>\n",
       "      <th>coefficient</th>\n",
       "      <th>se</th>\n",
       "      <th>wald</th>\n",
       "      <th>p-value</th>\n",
       "    </tr>\n",
       "  </thead>\n",
       "  <tbody>\n",
       "    <tr>\n",
       "      <th>0</th>\n",
       "      <td>intercept</td>\n",
       "      <td>-0.502</td>\n",
       "      <td>0.089</td>\n",
       "      <td>31.502</td>\n",
       "      <td>1.992e-08</td>\n",
       "    </tr>\n",
       "    <tr>\n",
       "      <th>1</th>\n",
       "      <td>Sex_WOE</td>\n",
       "      <td>-1.028</td>\n",
       "      <td>0.074</td>\n",
       "      <td>193.407</td>\n",
       "      <td>5.736e-44</td>\n",
       "    </tr>\n",
       "    <tr>\n",
       "      <th>2</th>\n",
       "      <td>Pclass_WOE</td>\n",
       "      <td>-1.156</td>\n",
       "      <td>0.131</td>\n",
       "      <td>78.388</td>\n",
       "      <td>8.467e-19</td>\n",
       "    </tr>\n",
       "    <tr>\n",
       "      <th>3</th>\n",
       "      <td>Embarked_WOE</td>\n",
       "      <td>-0.770</td>\n",
       "      <td>0.241</td>\n",
       "      <td>10.213</td>\n",
       "      <td>1.395e-03</td>\n",
       "    </tr>\n",
       "    <tr>\n",
       "      <th>4</th>\n",
       "      <td>Age_WOE</td>\n",
       "      <td>-0.960</td>\n",
       "      <td>0.187</td>\n",
       "      <td>26.433</td>\n",
       "      <td>2.729e-07</td>\n",
       "    </tr>\n",
       "  </tbody>\n",
       "</table>\n",
       "</div>"
      ],
      "text/plain": [
       "        feature  coefficient     se     wald    p-value\n",
       "0     intercept       -0.502  0.089   31.502  1.992e-08\n",
       "1       Sex_WOE       -1.028  0.074  193.407  5.736e-44\n",
       "2    Pclass_WOE       -1.156  0.131   78.388  8.467e-19\n",
       "3  Embarked_WOE       -0.770  0.241   10.213  1.395e-03\n",
       "4       Age_WOE       -0.960  0.187   26.433  2.729e-07"
      ]
     },
     "execution_count": 18,
     "metadata": {},
     "output_type": "execute_result"
    }
   ],
   "source": [
    "\"\"\"\n",
    "Тест Вальда. Вычисление стандартной ошибки, Wald Chi-Square и p-value для всех коэффициентов модели на заданном ДатаСэмпле\n",
    ":param ds: ДатаСэмпл. При None берется self.ds\n",
    ":param sample_name: название сэмпла. При None берется ds.train_sample\n",
    ":param clf: модель (объект класса LogisticRegression)\n",
    ":param features: список переменных\n",
    ":param fit: флаг для обучения модели заново на текущих данных\n",
    "\n",
    ":return: дафрейм с полями 'feature', 'coefficient', 'se', 'wald', 'p-value'\n",
    "\"\"\"         \n",
    "logreg.wald_test(ds=None, sample_name=None, clf=None, features=None, fit=False)        "
   ]
  },
  {
   "cell_type": "code",
   "execution_count": 19,
   "id": "d909ee80-1c76-4b27-9492-5352f34d0a9a",
   "metadata": {},
   "outputs": [
    {
     "data": {
      "text/plain": [
       "(['Sex_WOE', 'Pclass_WOE', 'Embarked_WOE', 'Age_WOE'], None)"
      ]
     },
     "execution_count": 19,
     "metadata": {},
     "output_type": "execute_result"
    }
   ],
   "source": [
    "\"\"\"\n",
    "Отбор факторов на основе регуляризации - строится модель на всех переменных, затем итерационно исключаются\n",
    "переменные с нулевыми или положительными коэффициентами и низкой значимостью\n",
    ":param ds: ДатаСэмпл. При None берется self.ds\n",
    ":param features: исходный список переменных. При None берется self.features\n",
    ":param hold: список переменных, которые обязательно должны остаться после отбора\n",
    ":param scoring: расчитываемый скор модели\n",
    ":param pvalue_threshold: граница значимости по p-value\n",
    ":param verbose: флаг для вывода подробных комментариев в процессе работы\n",
    "\n",
    ":return: кортеж (итоговый список переменных, график со скором в процессе отбора в виде объекта plt.figure)\n",
    "\"\"\"    \n",
    "logreg.regularized_selection(ds=None, features=None, hold=None, scoring='gini', pvalue_threshold=0.05, verbose=False)        "
   ]
  },
  {
   "cell_type": "code",
   "execution_count": 20,
   "id": "597f3bc8-d888-4c62-8786-10aaca063242",
   "metadata": {},
   "outputs": [
    {
     "data": {
      "text/plain": [
       "(['Age_WOE', 'Embarked_WOE', 'Pclass_WOE', 'Sex_WOE'],\n",
       " <Figure size 500x300 with 1 Axes>)"
      ]
     },
     "execution_count": 20,
     "metadata": {},
     "output_type": "execute_result"
    },
    {
     "data": {
      "image/png": "[encoded data removed]",
      "text/plain": [
       "<Figure size 500x300 with 1 Axes>"
      ]
     },
     "metadata": {},
     "output_type": "display_data"
    }
   ],
   "source": [
    "\"\"\"\n",
    "Итерационный отобор. Доступны три типа отбора:\n",
    "    selection_type='forward' - все доступные факторы помещаются в список кандидатов, на каждом шаге из списка кандидатов определяется лучший* фактор и перемещается в модель\n",
    "    selection_type='backward' - в модель включаются все доступные факторы, затем на каждом шаге исключается худший* фактор\n",
    "    selection_type='stepwise' - комбинация 'forward' и 'backward'. Каждый шаг состоит из двух этапов:\n",
    "            на первом из списка кандидатов отбирается лучший* фактор в модель,\n",
    "            на втором из уже включенных факторов выбирается худший* и исключается\n",
    "\n",
    "    *Определение лучшего фактора:\n",
    "    При pvalue_priority=False лучшим фактором считается тот, который увеличивает метрику scoring модели на наибольшую величину.\n",
    "        Если величина такого увеличения ниже score_delta, то лучший фактора не определяется, и добавления не происходит\n",
    "    При pvalue_priority=True лучшим фактором считается фактор, который после добавления в модель имеет наименьшее p-value.\n",
    "        Если величина этого p-value выше pvalue_threshold, то лучший фактора не определяется, и добавления не происходит\n",
    "\n",
    "    *Определение худшего фактора:\n",
    "    Худшим фактором в модели считается фактор с наибольшим p-value.\n",
    "        Если величина этого p-value ниже pvalue_threshold, то худший фактора не определяется, и исключения не происходит\n",
    ":param ds: ДатаСэмпл. При None берется self.ds\n",
    ":param verbose: флаг для вывода подробных комментариев в процессе работы\n",
    ":param selection_type: тип отбора. Варианты 'forward', 'backward', 'stepwise'\n",
    ":param features: исходный список переменных. При None берется self.features\n",
    ":param hold: список переменных, которые обязательно должны остаться после отбора\n",
    ":param score_delta: минимальный прирост метрики\n",
    ":param scoring: максимизируемая метрика.\n",
    "        Варианты значений: 'gini', 'AIC', 'BIC', 'SIC', 'SBIC' + все метрики доступные для вычисления через sklearn.model_selection.cross_val_score.\n",
    "        Все информационные метрики после вычисления умножаются на -1 для сохранения логики максимизации метрики.\n",
    ":param pvalue_threshold: граница значимости по p-value\n",
    ":param pvalue_priority: вариант определения лучшего фактора\n",
    "\n",
    ":return: кортеж (итоговый список переменных, график со скором в процессе отбора в виде объекта plt.figure)\n",
    "\"\"\"\n",
    "logreg.stepwise_selection(ds=None, verbose=False, selection_type='stepwise', features=None, hold=None, \n",
    "                          score_delta=0.01, scoring='gini', pvalue_threshold=0.05, pvalue_priority=False)       "
   ]
  },
  {
   "cell_type": "code",
   "execution_count": 21,
   "id": "b40eec12-beff-4c60-a40b-5466b9b0684f",
   "metadata": {},
   "outputs": [
    {
     "name": "stdout",
     "output_type": "stream",
     "text": [
      "intercept = -0.502\n",
      "coefs = {'Sex_WOE': -1.028, 'Pclass_WOE': -1.156, 'Embarked_WOE': -0.77, 'Age_WOE': -0.96}\n"
     ]
    }
   ],
   "source": [
    "\"\"\"\n",
    "Обучение модели\n",
    ":param ds: ДатаСэмпл. При None берется self.ds\n",
    ":param sample_name: название сэмпла на котором проводится обучение. При None берется ds.train_sample\n",
    ":param features: список переменных. При None берется self.features\n",
    "\"\"\"\n",
    "logreg.fit(ds=None, sample_name=None, features=None)        "
   ]
  },
  {
   "cell_type": "code",
   "execution_count": 22,
   "id": "088893fb-5cf5-4cbd-ba83-d3431df674a8",
   "metadata": {},
   "outputs": [
    {
     "data": {
      "text/plain": [
       "801.3235704358257"
      ]
     },
     "execution_count": 22,
     "metadata": {},
     "output_type": "execute_result"
    }
   ],
   "source": [
    "\"\"\"\n",
    "Расчет информационного критерия модели на заданной выборке\n",
    ":param ds: ДатаСэмпл. При None берется self.ds\n",
    ":param sample_name: название сэмпла. При None берется ds.train_sample\n",
    ":param clf: модель (объект класса LogisticRegression). При None берется self.model\n",
    ":param features: список переменных. При None берется self.features\n",
    ":param criterion: критерий для расчета. Доступны варианты 'AIC', 'BIC'\n",
    ":return: значение заданного криетрия\n",
    "\"\"\"\n",
    "logreg.inf_criterion(ds=None, sample_name=None, clf=None, features=None, criterion='AIC')        "
   ]
  },
  {
   "cell_type": "code",
   "execution_count": 23,
   "id": "7bd88524-878b-476f-a04a-979756e989f9",
   "metadata": {},
   "outputs": [
    {
     "data": {
      "text/plain": [
       "70.341"
      ]
     },
     "execution_count": 23,
     "metadata": {},
     "output_type": "execute_result"
    }
   ],
   "source": [
    "\"\"\"\n",
    "Вычисление скора модели на заданной выборке\n",
    ":param ds: ДатаСэмпл. При None берется self.ds\n",
    ":param sample_name: название сэмпла. При None берется ds.train_sample\n",
    ":param clf: модель (объект класса LogisticRegression). При None берется self.model\n",
    ":param cv: параметр cv для вычисления скора sklearn.model_selection.cross_val_score\n",
    ":param scoring: рассчитываемый скор. Варианты значений: 'gini', 'AIC', 'BIC' + все метрики доступные для вычисления через sklearn.model_selection.cross_val_score\n",
    ":param features: список переменных. При None берется self.features\n",
    ":param fit: флаг для обучения модели заново на текущих данных\n",
    "\n",
    ":return: рассчитанный скор\n",
    "\"\"\"\n",
    "logreg.get_score(ds=None, sample_name=None, clf=None, cv=5, scoring='gini', features=None, fit=True)        "
   ]
  },
  {
   "cell_type": "code",
   "execution_count": 24,
   "id": "c3c47c60-9b55-4264-abf6-379021f90bc7",
   "metadata": {},
   "outputs": [
    {
     "data": {
      "text/plain": [
       "<vtb_scorekit_dev.data.base.DataSamples at 0x7f80c1fe6c50>"
      ]
     },
     "execution_count": 24,
     "metadata": {},
     "output_type": "execute_result"
    }
   ],
   "source": [
    "\"\"\"\n",
    "Скоринг выборки.\n",
    ":param data: ДатаСэмпл или ДатаФрейм. Возвращается объект того же типа\n",
    ":param score_field: поле, в которое должен быть записан посчитанный скор\n",
    ":param pd_field: поле, в которое должен быть записан посчитанный PD\n",
    ":param scale_field: поле, в которое должен быть записан посчитанный грейд\n",
    "\n",
    ":return: ДатаСэмпл или ДатаФрейм с добавленными полями скоров, PD и грейда\n",
    "\"\"\"\n",
    "logreg.scoring(data=ds, score_field='score', pd_field='pd', scale_field=None)        "
   ]
  },
  {
   "cell_type": "code",
   "execution_count": 25,
   "id": "cb16cccf-d008-4cd9-88a1-57f1445b1d44",
   "metadata": {},
   "outputs": [
    {
     "name": "stdout",
     "output_type": "stream",
     "text": [
      "The model code for implementation saved to file titanic_output/model.py\n",
      "import pandas as pd\n",
      "import numpy as np\n",
      "\n",
      "\n",
      "def scoring(df, score_field='score', pd_field='pd', scale_field=None):\n",
      "    \"\"\"\n",
      "    Функция скоринга выборки\n",
      "    Arguments:\n",
      "        df: [pd.DataFrame] входной ДатаФрейм, должен содержать все нетрансформированные переменные модели\n",
      "        score_field: [str] поле, в которое должен быть записан посчитанный скор\n",
      "        pd_field: [str] поле, в которое должен быть записан посчитанный PD\n",
      "        scale_field: [str] поле, в которое должен быть записан посчитанный грейд\n",
      "    Returns:\n",
      "        df: [pd.DataFrame] выходной ДатаФрейм с добавленными полями трансформированных переменных, скоров, PD и грейда\n",
      "    \"\"\"\n",
      "\n",
      "    df['Sex_WOE'] = np.where(df['Sex'].isin(['female']), -1.573, \n",
      "                             np.where(df['Sex'].isin(['male']), 0.989, \n",
      "                                      -1.573))\n",
      "    df['Pclass_WOE'] = np.where(df['Pclass'].isin([1]), -1.043, \n",
      "                                np.where(df['Pclass'].isin([2]), -0.29, \n",
      "                                         np.where(df['Pclass'].isin([3]), 0.628, \n",
      "                                                  -1.043)))\n",
      "    df['Embarked_WOE'] = np.where((df['Embarked'].isin(['C'])) | (df['Embarked'].isnull()), -0.696, \n",
      "                                  np.where(df['Embarked'].isin(['Q']), -0.213, \n",
      "                                           np.where(df['Embarked'].isin(['S']), 0.238, \n",
      "                                                    -0.696)))\n",
      "    df['Age_WOE'] = np.where(df['Age'].isnull(), 0.474, \n",
      "                             np.where((df['Age'] < 6.5), -1.773, \n",
      "                                      np.where((df['Age'] >= 6.5) & (df['Age'] < 53.0), -0.024, \n",
      "                                               np.where((df['Age'] >= 53.0), 0.473, \n",
      "                                                        0.474))))\n",
      "    df[score_field] = -0.502 + (-1.028) * df['Sex_WOE'] + (-1.156) * df['Pclass_WOE'] + (-0.77) * df['Embarked_WOE'] + (-0.96) * df['Age_WOE']\n",
      "    df[pd_field] = 1 / (1 + np.exp(-df[score_field]))\n",
      "    df[score_field + '_calibr'] = 0.78125 + 1.00038 * df[score_field]\n",
      "    df[pd_field + '_calibr'] = 1 / (1 + np.exp(-df[score_field + '_calibr']))\n",
      "        return df\n",
      "\n",
      "df = scoring(df, score_field='score', pd_field='pd', scale_field=None)\n"
     ]
    }
   ],
   "source": [
    "\"\"\"\n",
    "Генерация хардкода функции scoring\n",
    ":param file_name: название питоновского файла, куда должен быть сохранен код\n",
    ":param score_field: поле, в которое должен быть записан посчитанный скор\n",
    ":param pd_field:  поле, в которое должен быть записан посчитанный PD\n",
    ":param scale_field:  поле, в которое должен быть записан посчитанный грейд\n",
    "\"\"\"\n",
    "logreg.to_py(file_name='model.py', score_field='score', pd_field='pd', scale_field=None)        "
   ]
  },
  {
   "cell_type": "code",
   "execution_count": 26,
   "id": "5ad0bc0f-1766-40b7-afb5-3e5abea921cf",
   "metadata": {},
   "outputs": [
    {
     "data": {
      "image/png": "[encoded data removed]",
      "text/plain": [
       "<Figure size 500x300 with 1 Axes>"
      ]
     },
     "metadata": {},
     "output_type": "display_data"
    }
   ],
   "source": [
    "\"\"\"\n",
    "Отрисовка гистограммы коэффициентов модели\n",
    ":param filename: название файла для сохранения\n",
    "\"\"\"\n",
    "logreg.draw_coefs(filename=None)        "
   ]
  },
  {
   "cell_type": "code",
   "execution_count": 27,
   "id": "0615b18b-8052-4755-8fb2-613d070ea016",
   "metadata": {},
   "outputs": [
    {
     "name": "stdout",
     "output_type": "stream",
     "text": [
      "IV...\n",
      "Тест Колмогорова-Смирнова...\n",
      "Джини...\n",
      "Калибровка...\n",
      "Корреляция...\n",
      "VIF...\n",
      "WOE...\n",
      "Results of validation tests was saved to file titanic_output/validation.xlsx\n"
     ]
    }
   ],
   "source": [
    "\"\"\"\n",
    "Валидационные тесты модели на заданном ДатаСэмпле библиотекой bankmetrics\n",
    ":param ds: ДатаСэмпл\n",
    ":param result_file: результирующий эксель файл\n",
    ":param score_field: поле со расчитанным скор (при отсутcnвии этого поля в выборке будет вызван метод self.scoring)\n",
    ":param pd_field: поле с расчитанным PD\n",
    ":param scale_field: поле с расчитанным грейдом\n",
    "\"\"\"\n",
    "logreg.validate(ds=None, result_file='validation.xlsx', score_field='score', pd_field='pd', scale_field=None)"
   ]
  },
  {
   "cell_type": "code",
   "execution_count": 28,
   "id": "8cfb67ae-1e86-44d5-be19-6ec106e024f2",
   "metadata": {
    "scrolled": true,
    "tags": []
   },
   "outputs": [
    {
     "data": {
      "text/plain": [
       "array([0.08280133, 0.94683437, 0.55696559, 0.89664886, 0.08280133,\n",
       "       0.07339375, 0.27881967, 0.32610827, 0.55696559, 0.88176423,\n",
       "       0.87078259, 0.84335581, 0.08280133, 0.08280133, 0.55696559,\n",
       "       0.6927365 , 0.40647184, 0.13922378, 0.55696559, 0.61537334,\n",
       "       0.20690685, 0.20690685, 0.64017551, 0.38385818, 0.55696559,\n",
       "       0.55696559, 0.10305054, 0.38385818, 0.52449188, 0.05300237,\n",
       "       0.56118581, 0.91695167, 0.52449188, 0.13933887, 0.56118581,\n",
       "       0.38385818, 0.10305054, 0.08280133, 0.55696559, 0.72072003,\n",
       "       0.55696559, 0.78415802, 0.10305054, 0.97559558, 0.64017551,\n",
       "       0.05300237, 0.07339375, 0.52449188, 0.10305054, 0.55696559,\n",
       "       0.08280133, 0.08280133, 0.94683437, 0.78415802, 0.44246991,\n",
       "       0.27862667, 0.78415802, 0.15634217, 0.95115867, 0.08280133,\n",
       "       0.15634217, 0.94683437, 0.38385818, 0.32610827, 0.4422331 ,\n",
       "       0.10305054, 0.78415802, 0.08280133, 0.55696559, 0.08280133,\n",
       "       0.20690685, 0.55696559, 0.20690685, 0.15634217, 0.08280133,\n",
       "       0.08280133, 0.05300237, 0.05300237, 0.58306492, 0.55696559,\n",
       "       0.08280133, 0.08280133, 0.52449188, 0.38385818, 0.78415802,\n",
       "       0.55696559, 0.08280133, 0.05300237, 0.89664886, 0.08280133,\n",
       "       0.08280133, 0.08280133, 0.38385818, 0.08280133, 0.05305057,\n",
       "       0.05300237, 0.44246991, 0.56118581, 0.78415802, 0.20690685,\n",
       "       0.55696559, 0.05300237, 0.38385818, 0.08280133, 0.08280133,\n",
       "       0.08280133, 0.55696559, 0.05300237, 0.08280133, 0.52449188,\n",
       "       0.38385818, 0.72072003, 0.08280133, 0.55696559, 0.72072003,\n",
       "       0.08280133, 0.07345906, 0.20690685, 0.56118581, 0.87078259,\n",
       "       0.20690685, 0.05300237, 0.34876051, 0.78415802, 0.27881967,\n",
       "       0.15634217, 0.07339375, 0.08280133, 0.61537334, 0.08280133,\n",
       "       0.15634217, 0.08280133, 0.55696559, 0.78415802, 0.20690685,\n",
       "       0.34876051, 0.89664886, 0.38385818, 0.08280133, 0.56118581,\n",
       "       0.61537334, 0.55696559, 0.55696559, 0.11328569, 0.20690685,\n",
       "       0.20690685, 0.08280133, 0.55696559, 0.20690685, 0.20690685,\n",
       "       0.20690685, 0.89664886, 0.05305057, 0.08280133, 0.05300237,\n",
       "       0.56118581, 0.64017551, 0.08280133, 0.05300237, 0.05300237,\n",
       "       0.08280133, 0.78415802, 0.08280133, 0.08280133, 0.32610827,\n",
       "       0.08280133, 0.84322894, 0.55696559, 0.27862667, 0.08280133,\n",
       "       0.27881967, 0.40647184, 0.87078259, 0.08280133, 0.44246991,\n",
       "       0.08280133, 0.05300237, 0.94683437, 0.20690685, 0.08280133,\n",
       "       0.43801451, 0.24925829, 0.08280133, 0.58306492, 0.87078259,\n",
       "       0.27862667, 0.52449188, 0.38385818, 0.11328569, 0.08280133,\n",
       "       0.78415802, 0.20690685, 0.55696559, 0.58306492, 0.94683437,\n",
       "       0.91702474, 0.07339375, 0.08280133, 0.52449188, 0.78415802,\n",
       "       0.08280133, 0.05300237, 0.08280133, 0.15634217, 0.08280133,\n",
       "       0.87078259, 0.08280133, 0.15634217, 0.64017551, 0.56118581,\n",
       "       0.08280133, 0.78415802, 0.08280133, 0.20690685, 0.07339375,\n",
       "       0.94683437, 0.55696559, 0.20690685, 0.94683437, 0.20690685,\n",
       "       0.08280133, 0.20690685, 0.08280133, 0.05300237, 0.38385818,\n",
       "       0.08280133, 0.20690685, 0.08280133, 0.20690685, 0.43801451,\n",
       "       0.89664886, 0.08280133, 0.13933887, 0.87078259, 0.20690685,\n",
       "       0.43801451, 0.20690685, 0.78415802, 0.20690685, 0.20690685,\n",
       "       0.61537334, 0.52449188, 0.20690685, 0.08280133, 0.15634217,\n",
       "       0.46855804, 0.55696559, 0.78415802, 0.38385818, 0.13933887,\n",
       "       0.05300237, 0.55696559, 0.27881967, 0.08280133, 0.55696559,\n",
       "       0.72072003, 0.91695167, 0.89664886, 0.94683437, 0.78415802,\n",
       "       0.07339375, 0.32610827, 0.38385818, 0.38385818, 0.52449188,\n",
       "       0.20690685, 0.08280133, 0.08280133, 0.84335581, 0.89664886,\n",
       "       0.27862667, 0.08280133, 0.78415802, 0.56118581, 0.52449188,\n",
       "       0.84335581, 0.55696559, 0.13922378, 0.11328569, 0.55696559,\n",
       "       0.07345906, 0.08280133, 0.08280133, 0.08280133, 0.27862667,\n",
       "       0.15634217, 0.08280133, 0.08280133, 0.20690685, 0.64017551,\n",
       "       0.89664886, 0.94683437, 0.34876051, 0.55696559, 0.08280133,\n",
       "       0.4422331 , 0.15634217, 0.97894983, 0.27862667, 0.94683437,\n",
       "       0.52449188, 0.07339375, 0.08280133, 0.76119714, 0.05300237,\n",
       "       0.76956135, 0.91695167, 0.94683437, 0.34876051, 0.94683437,\n",
       "       0.94683437, 0.94683437, 0.78415802, 0.08280133, 0.20690685,\n",
       "       0.55696559, 0.78415802, 0.13933887, 0.89664886, 0.94683437,\n",
       "       0.08280133, 0.08280133, 0.83717185, 0.78415802, 0.05300237,\n",
       "       0.94683437, 0.05305057, 0.78415802, 0.55696559, 0.94683437,\n",
       "       0.52449188, 0.38385818, 0.38385818, 0.08280133, 0.84322894,\n",
       "       0.05300237, 0.38385818, 0.94683437, 0.08280133, 0.38385818,\n",
       "       0.58306492, 0.89664886, 0.20690685, 0.20690685, 0.20690685,\n",
       "       0.78415802, 0.78415802, 0.43801451, 0.32610827, 0.08280133,\n",
       "       0.08280133, 0.27862667, 0.15634217, 0.08280133, 0.10305054,\n",
       "       0.08280133, 0.89664886, 0.78415802, 0.52449188, 0.52449188,\n",
       "       0.08280133, 0.34876051, 0.72072003, 0.08280133, 0.07339375,\n",
       "       0.08280133, 0.91702474, 0.61537334, 0.52449188, 0.94683437,\n",
       "       0.56118581, 0.08280133, 0.08280133, 0.56118581, 0.87078259,\n",
       "       0.91695167, 0.55696559, 0.56118581, 0.15634217, 0.08280133,\n",
       "       0.94683437, 0.93258395, 0.08280133, 0.89664886, 0.05300237,\n",
       "       0.20690685, 0.32610827, 0.78415802, 0.07339375, 0.88176423,\n",
       "       0.38385818, 0.08280133, 0.08280133, 0.94683437, 0.55696559,\n",
       "       0.08280133, 0.55696559, 0.20690685, 0.20690685, 0.78415802,\n",
       "       0.08280133, 0.08280133, 0.55696559, 0.08280133, 0.55696559,\n",
       "       0.20690685, 0.08280133, 0.58306492, 0.08280133, 0.43801451,\n",
       "       0.05300237, 0.07339375, 0.92468696, 0.13922378, 0.08280133,\n",
       "       0.43801451, 0.78415802, 0.78415802, 0.20690685, 0.55696559,\n",
       "       0.10305054, 0.11328569, 0.08280133, 0.55696559, 0.08280133,\n",
       "       0.05300237, 0.78415802, 0.78415802, 0.07339375, 0.08280133,\n",
       "       0.38385818, 0.43801451, 0.78415802, 0.08280133, 0.38385818,\n",
       "       0.89664886, 0.55696559, 0.78415802, 0.27881967, 0.20690685,\n",
       "       0.78415802, 0.08280133, 0.08280133, 0.78415802, 0.05300237,\n",
       "       0.76956135, 0.78415802, 0.38385818, 0.93258395, 0.38385818,\n",
       "       0.20690685, 0.05300237, 0.56118581, 0.56118581, 0.05300237,\n",
       "       0.15634217, 0.27881967, 0.84322894, 0.78415802, 0.07339375,\n",
       "       0.38385818, 0.08280133, 0.38385818, 0.20690685, 0.05300237,\n",
       "       0.08280133, 0.13922378, 0.27881967, 0.07339375, 0.93258395,\n",
       "       0.05300237, 0.08280133, 0.78415802, 0.88176423, 0.55696559,\n",
       "       0.27862667, 0.20690685, 0.08280133, 0.08280133, 0.87078259,\n",
       "       0.08280133, 0.13922378, 0.08280133, 0.43825083, 0.56118581,\n",
       "       0.43801451, 0.89664886, 0.44246991, 0.08280133, 0.08280133,\n",
       "       0.05300237, 0.08280133, 0.27881967, 0.44246991, 0.08280133,\n",
       "       0.10305054, 0.91702474, 0.05300237, 0.89664886, 0.08280133,\n",
       "       0.08280133, 0.64017551, 0.52449188, 0.55696559, 0.89664886,\n",
       "       0.56118581, 0.78415802, 0.27862667, 0.08280133, 0.08280133,\n",
       "       0.11328569, 0.05300237, 0.38385818, 0.91702474, 0.08280133,\n",
       "       0.38385818, 0.78415802, 0.07339375, 0.78415802, 0.08280133,\n",
       "       0.89664886, 0.08280133, 0.10305054, 0.94683437, 0.10305054,\n",
       "       0.11328569, 0.78415802, 0.27862667, 0.08280133, 0.20690685,\n",
       "       0.95115867, 0.10305054, 0.15634217, 0.61537334, 0.55696559,\n",
       "       0.78415802, 0.38385818, 0.94683437, 0.05300237, 0.94683437,\n",
       "       0.89664886, 0.55696559, 0.55696559, 0.20690685, 0.56118581,\n",
       "       0.27881967, 0.78415802, 0.24925829, 0.08280133, 0.20690685,\n",
       "       0.56118581, 0.20690685, 0.07339375, 0.15634217, 0.55696559,\n",
       "       0.27881967, 0.94683437, 0.4422331 , 0.89664886, 0.55696559,\n",
       "       0.07339375, 0.08280133, 0.20690685, 0.05300237, 0.43801451,\n",
       "       0.08280133, 0.08280133, 0.55696559, 0.10305054, 0.08280133,\n",
       "       0.13933887, 0.84335581, 0.38385818, 0.52449188, 0.08280133,\n",
       "       0.08280133, 0.78415802, 0.89664886, 0.61537334, 0.08280133,\n",
       "       0.78415802, 0.94683437, 0.13933887, 0.56118581, 0.10305054,\n",
       "       0.89664886, 0.20690685, 0.44246991, 0.08280133, 0.05300237,\n",
       "       0.08280133, 0.94683437, 0.08280133, 0.52449188, 0.20690685,\n",
       "       0.08280133, 0.69253212, 0.08280133, 0.10305054, 0.56118581,\n",
       "       0.78415802, 0.05300237, 0.27862667, 0.08280133, 0.56118581,\n",
       "       0.08280133, 0.08280133, 0.38385818, 0.88176423, 0.89664886,\n",
       "       0.55696559, 0.05300237, 0.52449188, 0.07339375, 0.08280133,\n",
       "       0.78415802, 0.08280133, 0.55696559, 0.95115867, 0.20690685,\n",
       "       0.15634217, 0.38385818, 0.15634217, 0.08280133, 0.08280133,\n",
       "       0.27881967, 0.18640788, 0.89664886, 0.08280133, 0.07339375,\n",
       "       0.27881967, 0.08280133, 0.56118581, 0.27862667, 0.55696559,\n",
       "       0.78415802, 0.08280133, 0.20690685, 0.55696559, 0.05300237,\n",
       "       0.08280133, 0.94683437, 0.87078259, 0.05300237, 0.93258395,\n",
       "       0.56118581, 0.08280133, 0.44246991, 0.05300237, 0.55696559,\n",
       "       0.05300237, 0.78415802, 0.08280133, 0.52449188, 0.64017551,\n",
       "       0.20690685, 0.05300237, 0.64017551, 0.20690685, 0.44246991,\n",
       "       0.38385818, 0.15634217, 0.38385818, 0.08280133, 0.08280133,\n",
       "       0.20690685, 0.20690685, 0.05300237, 0.08280133, 0.84322894,\n",
       "       0.78415802, 0.38385818, 0.13933887, 0.20690685, 0.13922378,\n",
       "       0.08280133, 0.08280133, 0.55696559, 0.55696559, 0.56118581,\n",
       "       0.52449188, 0.56118581, 0.08280133, 0.08280133, 0.13933887,\n",
       "       0.34876051, 0.08280133, 0.08280133, 0.08280133, 0.89664886,\n",
       "       0.38385818, 0.93258395, 0.05300237, 0.15634217, 0.27881967,\n",
       "       0.20690685, 0.08280133, 0.52449188, 0.56118581, 0.08280133,\n",
       "       0.94683437, 0.38385818, 0.72072003, 0.11328569, 0.08280133,\n",
       "       0.20690685, 0.78415802, 0.38385818, 0.89664886, 0.10305054,\n",
       "       0.94683437, 0.27862667, 0.38385818, 0.08280133, 0.20690685,\n",
       "       0.08280133, 0.94683437, 0.78415802, 0.07339375, 0.08280133,\n",
       "       0.95115867, 0.08280133, 0.20690685, 0.20690685, 0.38385818,\n",
       "       0.08280133, 0.78415802, 0.52449188, 0.20690685, 0.55696559,\n",
       "       0.89664886, 0.15634217, 0.13922378, 0.20690685, 0.20690685,\n",
       "       0.08280133, 0.55696559, 0.56118581, 0.05300237, 0.05300237,\n",
       "       0.27862667, 0.38385818, 0.94683437, 0.08280133, 0.08280133,\n",
       "       0.27881967, 0.08280133, 0.78415802, 0.38385818, 0.11328569,\n",
       "       0.95115867, 0.32610827, 0.08280133, 0.08280133, 0.78415802,\n",
       "       0.58306492, 0.08280133, 0.20690685, 0.08280133, 0.89664886,\n",
       "       0.05300237, 0.08280133, 0.15634217, 0.89664886, 0.08280133,\n",
       "       0.89664886, 0.4422331 , 0.64017551, 0.07339375, 0.08280133,\n",
       "       0.08280133, 0.08280133, 0.6927365 , 0.10305054, 0.6927365 ,\n",
       "       0.08280133, 0.07339375, 0.87078259, 0.07339375, 0.89664886,\n",
       "       0.72072003, 0.89664886, 0.38385818, 0.05300237, 0.08280133,\n",
       "       0.08280133, 0.55696559, 0.11328569, 0.32610827, 0.56118581,\n",
       "       0.07339375, 0.20690685, 0.43801451, 0.4422331 , 0.08280133,\n",
       "       0.20690685, 0.89664886, 0.55696559, 0.15634217, 0.55696559,\n",
       "       0.20690685, 0.78415802, 0.38385818, 0.49833501, 0.08280133,\n",
       "       0.08280133, 0.38385818, 0.55696559, 0.20690685, 0.89664886,\n",
       "       0.08280133, 0.08280133, 0.20690685, 0.87078259, 0.08280133,\n",
       "       0.27862667, 0.55696559, 0.34876051, 0.08280133, 0.08280133,\n",
       "       0.89664886, 0.08280133, 0.38385818, 0.55696559, 0.32610827,\n",
       "       0.07339375, 0.05300237, 0.74164728, 0.07339375, 0.91702474,\n",
       "       0.72072003, 0.58306492, 0.10305054, 0.08280133, 0.08280133,\n",
       "       0.94683437, 0.08280133, 0.05300237, 0.08280133, 0.4422331 ,\n",
       "       0.08280133, 0.20690685, 0.94683437, 0.15634217, 0.08280133,\n",
       "       0.08280133, 0.05300237, 0.15634217, 0.20690685, 0.91695167,\n",
       "       0.32610827, 0.05305057, 0.72072003, 0.89664886, 0.78415802,\n",
       "       0.55696559, 0.89664886, 0.38385818, 0.72072003, 0.10305054,\n",
       "       0.08280133, 0.20690685, 0.89664886, 0.43801451, 0.20690685,\n",
       "       0.78415802, 0.88176423, 0.38385818, 0.05300237, 0.32610827,\n",
       "       0.08280133, 0.89664886, 0.38385818, 0.08280133, 0.88176423,\n",
       "       0.72072003, 0.08280133, 0.08280133, 0.05300237, 0.91702474,\n",
       "       0.78415802, 0.08280133, 0.55696559, 0.20690685, 0.08280133,\n",
       "       0.64017551, 0.20690685, 0.89664886, 0.43801451, 0.56118581,\n",
       "       0.11328569])"
      ]
     },
     "execution_count": 28,
     "metadata": {},
     "output_type": "execute_result"
    }
   ],
   "source": [
    "\"\"\"\n",
    "Вычисление вероятности целевого события\n",
    ":param ds: ДатаСэмпл\n",
    ":param sample_name: название сэмпла для вычисление. При None берется ds.train_sample\n",
    "\n",
    ":return: np.array вероятностей\n",
    "\"\"\"\n",
    "logreg.predict_proba(ds=None, sample_name=None)        "
   ]
  },
  {
   "cell_type": "code",
   "execution_count": 29,
   "id": "9e5646da-9c26-4111-b696-da927bdfc3d1",
   "metadata": {},
   "outputs": [
    {
     "name": "stdout",
     "output_type": "stream",
     "text": [
      "       train\n",
      "Gini  71.105\n",
      "Generating report...\n"
     ]
    }
   ],
   "source": [
    "\"\"\"\n",
    "Генерация отчета по обученной модели.\n",
    ":param ds: ДатаСэмпл. В случае, если он не содержит трансформированные переменные, то выполняется трансформация трансформером self.transformer\n",
    ":param out: либо строка с названием эксель файла, либо объект pd.ExcelWriter для вывода результата\n",
    ":param sheet_name: название листа в экселе\n",
    ":param pvalue_threshold: граница по p-value. Используется только для выделения значений p-value цветом\n",
    ":param PSI: флаг проведение тестов PSI\n",
    ":param verbose: флаг вывода комментариев в процессе работы\n",
    "\"\"\"\n",
    "logreg.report(ds=None, out='report.xlsx', sheet_name='model', pvalue_threshold=0.05, PSI=False, verbose=False)        "
   ]
  },
  {
   "cell_type": "code",
   "execution_count": null,
   "id": "046d088c-de50-4f3b-883d-670bad0f87c2",
   "metadata": {
    "scrolled": true,
    "tags": []
   },
   "outputs": [],
   "source": [
    "\"\"\"\n",
    "Выполняет отбо факторов методом autobinary.AutoSelection. На отоборанных факторах строится модель на бустинге и логреге.\n",
    "Если self.transformer не задан, то для отобранных факторов дополнительно делается автобиннинг\n",
    ":param ds: ДатаСэмпл с нетрансформированными переменными\n",
    ":param selection_type: тип отбора. Варианты 'forward', 'backward', 'deep_backward'\n",
    ":param model_type: тип модели для классификации. Варианты 'xgboost', 'lightboost', 'catboost'\n",
    ":param result_file: файл, в который будут сохраняться результаты\n",
    ":param plot_pdp: флаг для построение графиков PDP. Нужна библиотека pdpbox\n",
    ":param verbose: флаг вывода комментариев в процессе работы\n",
    "\"\"\"\n",
    "ds = DataSamples(samples={'train': pd.read_csv('data/train_titanic.csv')}, target='Survived', result_folder='titanic_output')\n",
    "logreg.tree_selection(ds=ds, selection_type='forward', model_type='xgboost', result_file='tree_selection.xlsx', plot_pdp=False, verbose=False)        "
   ]
  }
 ],
 "metadata": {
  "kernelspec": {
   "display_name": "ADH-USERS. Python 3",
   "language": "python",
   "name": "python3-adh-users"
  },
  "language_info": {
   "codemirror_mode": {
    "name": "ipython",
    "version": 3
   },
   "file_extension": ".py",
   "mimetype": "text/x-python",
   "name": "python",
   "nbconvert_exporter": "python",
   "pygments_lexer": "ipython3",
   "version": "3.7.9"
  }
 },
 "nbformat": 4,
 "nbformat_minor": 5
}
